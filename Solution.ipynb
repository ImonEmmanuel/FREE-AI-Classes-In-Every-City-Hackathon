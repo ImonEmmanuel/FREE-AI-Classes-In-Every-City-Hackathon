{
 "cells": [
  {
   "cell_type": "code",
   "execution_count": 1,
   "id": "39f9744a",
   "metadata": {},
   "outputs": [],
   "source": [
    "import pandas as pd\n",
    "import numpy as np\n",
    "from sklearn.preprocessing import LabelEncoder\n",
    "from catboost import CatBoostRegressor\n",
    "from sklearn.model_selection import train_test_split\n",
    "from sklearn.model_selection import KFold\n",
    "from sklearn.metrics import mean_squared_error\n",
    "fold = KFold(n_splits=10)"
   ]
  },
  {
   "cell_type": "code",
   "execution_count": 2,
   "id": "913d1487",
   "metadata": {},
   "outputs": [],
   "source": [
    "train = pd.read_csv(\"Train.csv\")\n",
    "test = pd.read_csv(\"Test.csv\")\n",
    "sub = pd.read_csv(\"SampleSubmission.csv\")\n",
    "var = pd.read_csv(\"VariableDefinitions.csv\")"
   ]
  },
  {
   "cell_type": "code",
   "execution_count": 3,
   "id": "ad1a4a3a",
   "metadata": {},
   "outputs": [
    {
     "data": {
      "text/html": [
       "<div>\n",
       "<style scoped>\n",
       "    .dataframe tbody tr th:only-of-type {\n",
       "        vertical-align: middle;\n",
       "    }\n",
       "\n",
       "    .dataframe tbody tr th {\n",
       "        vertical-align: top;\n",
       "    }\n",
       "\n",
       "    .dataframe thead th {\n",
       "        text-align: right;\n",
       "    }\n",
       "</style>\n",
       "<table border=\"1\" class=\"dataframe\">\n",
       "  <thead>\n",
       "    <tr style=\"text-align: right;\">\n",
       "      <th></th>\n",
       "      <th>VehicleID</th>\n",
       "      <th>Location</th>\n",
       "      <th>Maker</th>\n",
       "      <th>Model</th>\n",
       "      <th>Year</th>\n",
       "      <th>Colour</th>\n",
       "      <th>Amount (Million Naira)</th>\n",
       "      <th>Type</th>\n",
       "      <th>Distance</th>\n",
       "    </tr>\n",
       "  </thead>\n",
       "  <tbody>\n",
       "    <tr>\n",
       "      <th>0</th>\n",
       "      <td>VHL12546</td>\n",
       "      <td>Abuja</td>\n",
       "      <td>Honda</td>\n",
       "      <td>Accord Coupe EX V-6</td>\n",
       "      <td>2,011</td>\n",
       "      <td>Silver</td>\n",
       "      <td>2.2</td>\n",
       "      <td>Nigerian Used</td>\n",
       "      <td>NaN</td>\n",
       "    </tr>\n",
       "    <tr>\n",
       "      <th>1</th>\n",
       "      <td>VHL18827</td>\n",
       "      <td>Ibadan</td>\n",
       "      <td>Hyundai</td>\n",
       "      <td>Sonata</td>\n",
       "      <td>2,012</td>\n",
       "      <td>Silver</td>\n",
       "      <td>3.5</td>\n",
       "      <td>Nigerian Used</td>\n",
       "      <td>125,000</td>\n",
       "    </tr>\n",
       "    <tr>\n",
       "      <th>2</th>\n",
       "      <td>VHL19499</td>\n",
       "      <td>Lagos</td>\n",
       "      <td>Lexus</td>\n",
       "      <td>RX 350</td>\n",
       "      <td>2,010</td>\n",
       "      <td>Red</td>\n",
       "      <td>9.2</td>\n",
       "      <td>Foreign Used</td>\n",
       "      <td>110,852</td>\n",
       "    </tr>\n",
       "    <tr>\n",
       "      <th>3</th>\n",
       "      <td>VHL17991</td>\n",
       "      <td>Abuja</td>\n",
       "      <td>Mercedes-Benz</td>\n",
       "      <td>GLE-Class</td>\n",
       "      <td>2,017</td>\n",
       "      <td>Blue</td>\n",
       "      <td>22.8</td>\n",
       "      <td>Foreign Used</td>\n",
       "      <td>30,000</td>\n",
       "    </tr>\n",
       "    <tr>\n",
       "      <th>4</th>\n",
       "      <td>VHL12170</td>\n",
       "      <td>Ibadan</td>\n",
       "      <td>Toyota</td>\n",
       "      <td>Highlander</td>\n",
       "      <td>2,002</td>\n",
       "      <td>Red</td>\n",
       "      <td>2.6</td>\n",
       "      <td>Nigerian Used</td>\n",
       "      <td>125,206</td>\n",
       "    </tr>\n",
       "  </tbody>\n",
       "</table>\n",
       "</div>"
      ],
      "text/plain": [
       "  VehicleID Location          Maker                Model   Year  Colour  \\\n",
       "0  VHL12546    Abuja          Honda  Accord Coupe EX V-6  2,011  Silver   \n",
       "1  VHL18827   Ibadan        Hyundai               Sonata  2,012  Silver   \n",
       "2  VHL19499    Lagos          Lexus               RX 350  2,010     Red   \n",
       "3  VHL17991    Abuja  Mercedes-Benz            GLE-Class  2,017    Blue   \n",
       "4  VHL12170   Ibadan         Toyota           Highlander  2,002     Red   \n",
       "\n",
       "   Amount (Million Naira)           Type Distance  \n",
       "0                     2.2  Nigerian Used      NaN  \n",
       "1                     3.5  Nigerian Used  125,000  \n",
       "2                     9.2   Foreign Used  110,852  \n",
       "3                    22.8   Foreign Used   30,000  \n",
       "4                     2.6  Nigerian Used  125,206  "
      ]
     },
     "execution_count": 3,
     "metadata": {},
     "output_type": "execute_result"
    }
   ],
   "source": [
    "train.head()"
   ]
  },
  {
   "cell_type": "code",
   "execution_count": 4,
   "id": "bccffc93",
   "metadata": {},
   "outputs": [],
   "source": [
    "train = train[train['Amount (Million Naira)'] > 0].reset_index(drop = True)"
   ]
  },
  {
   "cell_type": "code",
   "execution_count": 5,
   "id": "4841f8cb",
   "metadata": {},
   "outputs": [],
   "source": [
    "ntrain = train.shape[0]\n",
    "df = pd.concat([train, test]).reset_index(drop = True)"
   ]
  },
  {
   "cell_type": "code",
   "execution_count": 6,
   "id": "e4c47c59",
   "metadata": {},
   "outputs": [
    {
     "data": {
      "text/plain": [
       "VehicleID                  object\n",
       "Location                   object\n",
       "Maker                      object\n",
       "Model                      object\n",
       "Year                       object\n",
       "Colour                     object\n",
       "Amount (Million Naira)    float64\n",
       "Type                       object\n",
       "Distance                   object\n",
       "dtype: object"
      ]
     },
     "execution_count": 6,
     "metadata": {},
     "output_type": "execute_result"
    }
   ],
   "source": [
    "df.dtypes"
   ]
  },
  {
   "cell_type": "code",
   "execution_count": 7,
   "id": "48ea715f",
   "metadata": {},
   "outputs": [
    {
     "name": "stdout",
     "output_type": "stream",
     "text": [
      "Location:  This is the location in Nigeria where the seller is based.\n",
      "Maker:  This is the manufacturer of the car. It is the brand name.\n",
      "Model:  This is the the name of the car product within a range of similar car products.\n",
      "Year:  This is the year the car was manufactured.\n",
      "Colour:  This is the colour of the car.\n",
      "Amount (Million Naira):  This is the selling price of the car. It is the amount the company will sell the car.\n",
      "Type:  This is the nature of previous use of the car, whether it was previously used within Nigeria or outside Nigeria.\n",
      "Distance:  This is the mileage of the car. It is how much distance it covered in its previous use\n"
     ]
    }
   ],
   "source": [
    "for i in range(var.shape[0]):\n",
    "    print(f\"{var['VehicleID'][i]}:  {var['This is the unique identifier of the car.'][i]}\")"
   ]
  },
  {
   "cell_type": "code",
   "execution_count": 8,
   "id": "f76d7e04",
   "metadata": {},
   "outputs": [],
   "source": [
    "df = df.drop('Colour', axis = 1)"
   ]
  },
  {
   "cell_type": "code",
   "execution_count": 9,
   "id": "be908057",
   "metadata": {},
   "outputs": [],
   "source": [
    "df['Distance'] = df['Distance'].fillna(0)\n",
    "df['Distance'] = [int(i.split(\",\")[0] + i.split(\",\")[1]) if \",\" in str(i) else int(i) for i in df['Distance']]\n",
    "df['Distance'] = [np.nan if i == 0 else i for i in df['Distance']]"
   ]
  },
  {
   "cell_type": "code",
   "execution_count": 10,
   "id": "9fdeea9e",
   "metadata": {},
   "outputs": [],
   "source": [
    "features = [feat for feat in list(df) if feat != 'Amount (Million Naira)' ]\n",
    "cat_feat = np.where(df[features].dtypes == object)[0]\n",
    "to_encode = [val for index, val in enumerate(features) if index in cat_feat]"
   ]
  },
  {
   "cell_type": "code",
   "execution_count": 11,
   "id": "685582ed",
   "metadata": {},
   "outputs": [],
   "source": [
    "df[to_encode] = df[to_encode].apply(LabelEncoder().fit_transform)"
   ]
  },
  {
   "cell_type": "code",
   "execution_count": 12,
   "id": "8199056d",
   "metadata": {},
   "outputs": [],
   "source": [
    "new_test = df[train.shape[0]:].reset_index(drop = True)\n",
    "new_train = df[:train.shape[0]]"
   ]
  },
  {
   "cell_type": "code",
   "execution_count": 13,
   "id": "1743bf06",
   "metadata": {},
   "outputs": [],
   "source": [
    "new_train = new_train.drop(\"VehicleID\", axis = 1)\n",
    "new_test = new_test.drop(\"VehicleID\", axis = 1)"
   ]
  },
  {
   "cell_type": "code",
   "execution_count": 17,
   "id": "9d7dfce6",
   "metadata": {},
   "outputs": [],
   "source": [
    "X = new_train.drop(\"Amount (Million Naira)\", axis = 1)\n",
    "y = new_train['Amount (Million Naira)']"
   ]
  },
  {
   "cell_type": "code",
   "execution_count": 18,
   "id": "7cdc105c",
   "metadata": {},
   "outputs": [],
   "source": [
    "def modelling_tree(algorithm,yy,X, test_df):\n",
    "    cv_score=[]\n",
    "    test_pred=[]\n",
    "    \n",
    "    for train_index, test_index in fold.split(X,pd.Series(yy)):\n",
    "        \n",
    "        X_trainx, X_val = X.iloc[train_index], X.iloc[test_index]\n",
    "        y_trainx, y_val = pd.Series(yy).iloc[train_index], pd.Series(yy).iloc[test_index]\n",
    "\n",
    "        algorithm.fit(X_trainx,y_trainx)\n",
    "        \n",
    "        val_preds=algorithm.predict(X_val)\n",
    "        cv_score.append(np.sqrt(mean_squared_error(y_val, val_preds)))\n",
    "\n",
    "        test_p = algorithm.predict(test_df)\n",
    "        test_pred.append(test_p)\n",
    "        \n",
    "    print(f'Validation RMSE Score{np.mean(cv_score)}')\n",
    "\n",
    "    return np.mean(test_pred, axis = 0)"
   ]
  },
  {
   "cell_type": "code",
   "execution_count": 20,
   "id": "ebf17ecf",
   "metadata": {},
   "outputs": [
    {
     "name": "stdout",
     "output_type": "stream",
     "text": [
      "Validation RMSE Score10.744924111393459\n"
     ]
    }
   ],
   "source": [
    "cat_pred = modelling_tree(algorithm=CatBoostRegressor(silent = True), yy = y , X = X , test_df=new_test[X.columns])"
   ]
  },
  {
   "cell_type": "code",
   "execution_count": 24,
   "id": "8f2490bd",
   "metadata": {},
   "outputs": [
    {
     "data": {
      "text/html": [
       "<div>\n",
       "<style scoped>\n",
       "    .dataframe tbody tr th:only-of-type {\n",
       "        vertical-align: middle;\n",
       "    }\n",
       "\n",
       "    .dataframe tbody tr th {\n",
       "        vertical-align: top;\n",
       "    }\n",
       "\n",
       "    .dataframe thead th {\n",
       "        text-align: right;\n",
       "    }\n",
       "</style>\n",
       "<table border=\"1\" class=\"dataframe\">\n",
       "  <thead>\n",
       "    <tr style=\"text-align: right;\">\n",
       "      <th></th>\n",
       "      <th>0</th>\n",
       "      <th>1</th>\n",
       "      <th>2</th>\n",
       "      <th>3</th>\n",
       "      <th>4</th>\n",
       "      <th>5</th>\n",
       "      <th>6</th>\n",
       "      <th>7</th>\n",
       "      <th>8</th>\n",
       "      <th>9</th>\n",
       "      <th>...</th>\n",
       "      <th>2051</th>\n",
       "      <th>2052</th>\n",
       "      <th>2053</th>\n",
       "      <th>2054</th>\n",
       "      <th>2055</th>\n",
       "      <th>2056</th>\n",
       "      <th>2057</th>\n",
       "      <th>2058</th>\n",
       "      <th>2059</th>\n",
       "      <th>2060</th>\n",
       "    </tr>\n",
       "  </thead>\n",
       "  <tbody>\n",
       "    <tr>\n",
       "      <th>VehichleID</th>\n",
       "      <td>VHL18518</td>\n",
       "      <td>VHL17149</td>\n",
       "      <td>VHL10927</td>\n",
       "      <td>VHL12909</td>\n",
       "      <td>VHL12348</td>\n",
       "      <td>VHL10798</td>\n",
       "      <td>VHL11022</td>\n",
       "      <td>VHL12206</td>\n",
       "      <td>VHL11697</td>\n",
       "      <td>VHL12313</td>\n",
       "      <td>...</td>\n",
       "      <td>VHL11288</td>\n",
       "      <td>VHL12337</td>\n",
       "      <td>VHL14268</td>\n",
       "      <td>VHL10015</td>\n",
       "      <td>VHL16136</td>\n",
       "      <td>VHL17903</td>\n",
       "      <td>VHL14018</td>\n",
       "      <td>VHL17473</td>\n",
       "      <td>VHL11480</td>\n",
       "      <td>VHL13881</td>\n",
       "    </tr>\n",
       "    <tr>\n",
       "      <th>Amount (Million Naira)</th>\n",
       "      <td>6.184953</td>\n",
       "      <td>6.020343</td>\n",
       "      <td>4.715104</td>\n",
       "      <td>4.637041</td>\n",
       "      <td>8.658097</td>\n",
       "      <td>28.75909</td>\n",
       "      <td>2.689506</td>\n",
       "      <td>6.71472</td>\n",
       "      <td>8.739652</td>\n",
       "      <td>6.020343</td>\n",
       "      <td>...</td>\n",
       "      <td>17.477898</td>\n",
       "      <td>7.751321</td>\n",
       "      <td>2.178228</td>\n",
       "      <td>19.937449</td>\n",
       "      <td>4.674146</td>\n",
       "      <td>24.475686</td>\n",
       "      <td>6.629225</td>\n",
       "      <td>6.802435</td>\n",
       "      <td>11.002493</td>\n",
       "      <td>5.017771</td>\n",
       "    </tr>\n",
       "  </tbody>\n",
       "</table>\n",
       "<p>2 rows × 2061 columns</p>\n",
       "</div>"
      ],
      "text/plain": [
       "                            0         1         2         3         4     \\\n",
       "VehichleID              VHL18518  VHL17149  VHL10927  VHL12909  VHL12348   \n",
       "Amount (Million Naira)  6.184953  6.020343  4.715104  4.637041  8.658097   \n",
       "\n",
       "                            5         6         7         8         9     ...  \\\n",
       "VehichleID              VHL10798  VHL11022  VHL12206  VHL11697  VHL12313  ...   \n",
       "Amount (Million Naira)  28.75909  2.689506   6.71472  8.739652  6.020343  ...   \n",
       "\n",
       "                             2051      2052      2053       2054      2055  \\\n",
       "VehichleID               VHL11288  VHL12337  VHL14268   VHL10015  VHL16136   \n",
       "Amount (Million Naira)  17.477898  7.751321  2.178228  19.937449  4.674146   \n",
       "\n",
       "                             2056      2057      2058       2059      2060  \n",
       "VehichleID               VHL17903  VHL14018  VHL17473   VHL11480  VHL13881  \n",
       "Amount (Million Naira)  24.475686  6.629225  6.802435  11.002493  5.017771  \n",
       "\n",
       "[2 rows x 2061 columns]"
      ]
     },
     "execution_count": 24,
     "metadata": {},
     "output_type": "execute_result"
    }
   ],
   "source": [
    "my_sub = pd.DataFrame()\n",
    "my_sub['VehichleID'] = test['VehicleID'] \n",
    "my_sub['Amount (Million Naira)'] = cat_pred\n",
    "my_sub.T"
   ]
  },
  {
   "cell_type": "code",
   "execution_count": 26,
   "id": "aa2fdba6",
   "metadata": {},
   "outputs": [],
   "source": [
    "my_sub.to_csv(\"Final_solution.csv\", index = False)"
   ]
  }
 ],
 "metadata": {
  "kernelspec": {
   "display_name": "Python 3 (ipykernel)",
   "language": "python",
   "name": "python3"
  },
  "language_info": {
   "codemirror_mode": {
    "name": "ipython",
    "version": 3
   },
   "file_extension": ".py",
   "mimetype": "text/x-python",
   "name": "python",
   "nbconvert_exporter": "python",
   "pygments_lexer": "ipython3",
   "version": "3.9.7"
  }
 },
 "nbformat": 4,
 "nbformat_minor": 5
}
